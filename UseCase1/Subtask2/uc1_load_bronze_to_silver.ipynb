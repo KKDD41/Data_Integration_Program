{
 "cells": [
  {
   "cell_type": "code",
   "execution_count": 0,
   "metadata": {
    "application/vnd.databricks.v1+cell": {
     "cellMetadata": {
      "byteLimit": 2048000,
      "rowLimit": 10000
     },
     "inputWidgets": {},
     "nuid": "1b77018d-c537-478a-ae76-b7a162d0d1e9",
     "showTitle": false,
     "title": ""
    }
   },
   "outputs": [],
   "source": [
    "# Authenticate Databricks to access Data Lake\n",
    "# <scope name> value must be updated with Azure Key Vault-backed secret scope name\n",
    "# <app-id-azure-key-vault-key> must be updated with Azure Key Vault value for application id\n",
    "# <tenant-id-azure-key-vault-key> must be updated with Azure Key Vault value for tenant id\n",
    "# <client-secret-azure-key-vault-key> must be updated with Azure Key Vault value for client secret\n",
    "\n",
    "AppID = dbutils.secrets.get(scope=\"<scope name>\", key=\"<app-id-azure-key-vault-key>\")\n",
    "TenantID = dbutils.secrets.get(scope=\"<scope name>\", key=\"<tenant-id-azure-key-vault-key>\")\n",
    "ClientSecret = dbutils.secrets.get(scope=\"<scope name>\", key=\"<client-secret-azure-key-vault-key>\")\n",
    "\n",
    "configs = {\"fs.azure.account.auth.type\": \"OAuth\",\n",
    "          \"fs.azure.account.oauth.provider.type\": \"org.apache.hadoop.fs.azurebfs.oauth2.ClientCredsTokenProvider\",\n",
    "          \"fs.azure.account.oauth2.client.id\": AppID,\n",
    "          \"fs.azure.account.oauth2.client.secret\": ClientSecret,\n",
    "          \"fs.azure.account.oauth2.client.endpoint\": \"https://login.microsoftonline.com/{tenant}/oauth2/token\".format(tenant=TenantID)}\n",
    "          \n",
    "\n",
    "# Mounting data in an Azure storage account using an Azure Active Directory (Azure AD) application service principal for authentication\n",
    "# dbutils.fs.unmount(\"/mnt/data\") #use to unmount data if needed\n",
    "# <data-lake-name> must be replaced with your Azure Data Lake Storage Gen2 name\n",
    "\n",
    "try:\n",
    "    dbutils.fs.mount(\n",
    "      source = \"abfss://data@<data-lake-name>.dfs.core.windows.net/\",\n",
    "      mount_point = \"/mnt/data\",\n",
    "      extra_configs = configs)\n",
    "except Exception as e:\n",
    "    if \"Directory already mounted\" in str(e):\n",
    "        pass # Ignore error if already mounted.\n",
    "    else:\n",
    "        raise e\n"
   ]
  },
  {
   "cell_type": "code",
   "execution_count": 0,
   "metadata": {
    "application/vnd.databricks.v1+cell": {
     "cellMetadata": {
      "byteLimit": 2048000,
      "implicitDf": true,
      "rowLimit": 10000
     },
     "inputWidgets": {},
     "nuid": "c635ecba-4ea2-42a5-8bd1-b17b81c1b75a",
     "showTitle": false,
     "title": ""
    }
   },
   "outputs": [],
   "source": [
    "%sql\n",
    "-- Creating database and delta tables if not exist\n",
    "\n",
    "/* TODO - WRITE CODE TO CREATE NEW DATABASE AND DELTA TABLES */\n"
   ]
  },
  {
   "cell_type": "code",
   "execution_count": 0,
   "metadata": {
    "application/vnd.databricks.v1+cell": {
     "cellMetadata": {
      "byteLimit": 2048000,
      "rowLimit": 10000
     },
     "inputWidgets": {},
     "nuid": "3a73d209-8643-4906-b050-62f20a57c0cf",
     "showTitle": false,
     "title": ""
    }
   },
   "outputs": [],
   "source": [
    "import re\n",
    "from delta.tables import *\n",
    "from pyspark.sql.functions import *\n",
    "from pyspark.sql import Window\n",
    "\n",
    "#dictionary \"entities\" store the name of the entities and it's BK \n",
    "entities = {\"device\":\"device_id\", \n",
    "          \"subscription\":\"subscription_id\", \n",
    "          \"user\":\"user_id\", \n",
    "          \"user_subscription_device\":\"user_subscription_device_id\"}\n",
    "\n",
    "try:\n",
    "    #looping through every entity\n",
    "    for entity in entities.items() :   \n",
    "\n",
    "        bronzePath = \"/mnt/data/bronze/youflix/youflix_{entity_name}\".format(entity_name=entity[0])\n",
    "        silverPath = \"/mnt/data/silver/youflix/youflix_{entity_name}\".format(entity_name=entity[0])\n",
    "        processedPath = \"/mnt/data/bronze/youflix/processed/youflix_{entity_name}\".format(entity_name=entity[0])\n",
    "\n",
    "        #files to load from bronze to silver\n",
    "        filePaths = dbutils.fs.ls(bronzePath)\n",
    "\n",
    "        if filePaths:\n",
    "            \n",
    "            #MERGE BRONZE TO SILVER\n",
    "                       \n",
    "                       #TODO\n",
    "                       #use pyspark spark.read.load method to create dataframe based on csv files in the bronzePath\n",
    "                       #do not forget that file has header\n",
    "            bronzeDF = ()\n",
    "                       \n",
    "                       \n",
    "            partition=Window.partitionBy(entity[1]).orderBy(col(\"filedate\").desc())\n",
    "           \n",
    "            bronzeDF_cln = (bronzeDF.withColumn(\"filedate\", to_timestamp(regexp_extract(input_file_name(),'([\\d]{14})',0), 'yyyyMMddhhmmss'))\n",
    "                                    .withColumn(\"rn\",row_number().over(partition))\n",
    "                                    .filter(\"rn == 1\")\n",
    "                            )\n",
    "\n",
    "            #get delta table at the silver path\n",
    "            silver_table = DeltaTable.forPath(spark, silverPath)\n",
    "\n",
    "\n",
    "            #TODO\n",
    "            #add your code into brackets below\n",
    "            #use pyspark merge method to merge bronzeDF_cln dataframe into silver_table by BK. BK for table can be accessible by entity[1]\n",
    "            #refer to the https://learn.microsoft.com/en-us/azure/databricks/delta/merge to learn about upsert into a Delta Lake table using merge. \n",
    "            #this article https://docs.delta.io/latest/delta-update.html#table-deletes-updates-and-merges&language-python will help to understand how to delete, update and merge Delta tables\n",
    "            \n",
    "            (\n",
    "            )\n",
    "\n",
    "            #MOVE TO PROCESSED DIRECTORY \n",
    "\n",
    "            #looping through every file in directory\n",
    "            for file_info in filePaths:\n",
    "\n",
    "                #creating tuple to store (year, month, day) of the file\n",
    "                file_date = (re.split(\"_\", file_info.name)[-1][0:4], re.split(\"_\", file_info.name)[-1][4:6], re.split(\"_\", file_info.name)[-1][6:8])\n",
    "                \n",
    "                #TODO \n",
    "                #complete mv command to move files from bronzePath to processedPath according to the structure in 1.2.7.\n",
    "                #use file_date tuple to get year, month and day of the file, use file_info.name to get name of file\n",
    "                dbutils.fs.mv()\n",
    "    \n",
    "        else:\n",
    "            raise Exception(\"Entity \\\"{entity}\\\" - No files for load\".format(entity=entity[0]))\n",
    "\n",
    "    #REMOVE Success.csv\n",
    "\n",
    "    #TODO \n",
    "    #complete rm command to remove Success.csv\n",
    "    dbutils.fs.rm()\n",
    "    \n",
    "except Exception as e:\n",
    "    print(e)\n",
    "    "
   ]
  }
 ],
 "metadata": {
  "application/vnd.databricks.v1+notebook": {
   "dashboards": [],
   "language": "python",
   "notebookMetadata": {
    "mostRecentlyExecutedCommandWithImplicitDF": {
     "commandId": 2155309716679946,
     "dataframes": [
      "_sqldf"
     ]
    },
    "pythonIndentUnit": 4
   },
   "notebookName": "uc1_load_bronze_to_silver",
   "notebookOrigID": 3216187413928239,
   "widgets": {}
  }
 },
 "nbformat": 4,
 "nbformat_minor": 0
}
