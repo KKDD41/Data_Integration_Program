{
 "cells": [
  {
   "cell_type": "code",
   "execution_count": null,
   "metadata": {
    "application/vnd.databricks.v1+cell": {
     "cellMetadata": {},
     "inputWidgets": {},
     "nuid": "27380f6a-2e14-4e98-8a7d-9b14696cd4bf",
     "showTitle": false,
     "tableResultSettingsMap": {},
     "title": ""
    }
   },
   "outputs": [],
   "source": [
    "# Authenticate Databricks to access Data Lake\n",
    "# <scope name> value must be updated with Azure Key Vault-backed secret scope name\n",
    "# <app-id-azure-key-vault-key> must be updated with Azure Key Vault value for application id\n",
    "# <tenant-id-azure-key-vault-key> must be updated with Azure Key Vault value for tenant id\n",
    "# <client-secret-azure-key-vault-key> must be updated with Azure Key Vault value for client secret\n",
    "\n",
    "AppID = dbutils.secrets.get(scope=\"secret-scope-ed\", key=\"applicationID>\")\n",
    "TenantID = dbutils.secrets.get(scope=\"secret-scope-ed\", key=\"tenantID\")\n",
    "ClientSecret = dbutils.secrets.get(scope=\"secret-scope-ed\", key=\"clientSecret\")\n",
    "\n",
    "configs = {\"fs.azure.account.auth.type\": \"OAuth\",\n",
    "          \"fs.azure.account.oauth.provider.type\": \"org.apache.hadoop.fs.azurebfs.oauth2.ClientCredsTokenProvider\",\n",
    "          \"fs.azure.account.oauth2.client.id\": AppID,\n",
    "          \"fs.azure.account.oauth2.client.secret\": ClientSecret,\n",
    "          \"fs.azure.account.oauth2.client.endpoint\": \"https://login.microsoftonline.com/{tenant}/oauth2/token\".format(tenant=TenantID)}\n",
    "          \n",
    "\n",
    "# Mounting data in an Azure storage account using an Azure Active Directory (Azure AD) application service principal for authentication\n",
    "# dbutils.fs.unmount(\"/mnt/data\") #use to unmount data if needed\n",
    "# <data-lake-name> must be replaced with your Azure Data Lake Storage Gen2 name\n",
    "\n",
    "try:\n",
    "    dbutils.fs.mount(\n",
    "      source = \"abfss://data@stdimentoringdatalakeed.dfs.core.windows.net/\",\n",
    "      mount_point = \"/mnt/data\",\n",
    "      extra_configs = configs)\n",
    "except Exception as e:\n",
    "    if \"Directory already mounted\" in str(e):\n",
    "        pass # Ignore error if already mounted.\n",
    "    else:\n",
    "        raise e"
   ]
  },
  {
   "cell_type": "code",
   "execution_count": null,
   "metadata": {
    "application/vnd.databricks.v1+cell": {
     "cellMetadata": {
      "byteLimit": 2048000,
      "rowLimit": 10000
     },
     "inputWidgets": {},
     "nuid": "e8bf9390-8ae7-42a8-9cbd-2aa7505039a0",
     "showTitle": false,
     "tableResultSettingsMap": {},
     "title": ""
    }
   },
   "outputs": [
    {
     "data": {
      "text/plain": [
       "[MountInfo(mountPoint='/databricks-datasets', source='databricks-datasets', encryptionType=''),\n",
       " MountInfo(mountPoint='/Volumes', source='UnityCatalogVolumes', encryptionType=''),\n",
       " MountInfo(mountPoint='/databricks/mlflow-tracking', source='databricks/mlflow-tracking', encryptionType=''),\n",
       " MountInfo(mountPoint='/databricks-results', source='databricks-results', encryptionType=''),\n",
       " MountInfo(mountPoint='/databricks/mlflow-registry', source='databricks/mlflow-registry', encryptionType=''),\n",
       " MountInfo(mountPoint='/Volume', source='DbfsReserved', encryptionType=''),\n",
       " MountInfo(mountPoint='/volumes', source='DbfsReserved', encryptionType=''),\n",
       " MountInfo(mountPoint='/mnt/data', source='wasbs://data@stdimentoringdatalakeed.blob.core.windows.net/', encryptionType=''),\n",
       " MountInfo(mountPoint='/', source='DatabricksRoot', encryptionType=''),\n",
       " MountInfo(mountPoint='/volume', source='DbfsReserved', encryptionType='')]"
      ]
     },
     "execution_count": 1,
     "metadata": {},
     "output_type": "execute_result"
    }
   ],
   "source": [
    "dbutils.fs.mounts()"
   ]
  },
  {
   "cell_type": "code",
   "execution_count": null,
   "metadata": {
    "application/vnd.databricks.v1+cell": {
     "cellMetadata": {
      "byteLimit": 2048000,
      "implicitDf": true,
      "rowLimit": 10000
     },
     "inputWidgets": {},
     "nuid": "c635ecba-4ea2-42a5-8bd1-b17b81c1b75a",
     "showTitle": false,
     "tableResultSettingsMap": {},
     "title": ""
    }
   },
   "outputs": [
    {
     "data": {
      "text/html": [
       "<style scoped>\n",
       "  .table-result-container {\n",
       "    max-height: 300px;\n",
       "    overflow: auto;\n",
       "  }\n",
       "  table, th, td {\n",
       "    border: 1px solid black;\n",
       "    border-collapse: collapse;\n",
       "  }\n",
       "  th, td {\n",
       "    padding: 5px;\n",
       "  }\n",
       "  th {\n",
       "    text-align: left;\n",
       "  }\n",
       "</style><div class='table-result-container'><table class='table-result'><thead style='background-color: white'><tr></tr></thead><tbody></tbody></table></div>"
      ]
     },
     "metadata": {
      "application/vnd.databricks.v1+output": {
       "addedWidgets": {},
       "aggData": [],
       "aggError": "",
       "aggOverflow": false,
       "aggSchema": [],
       "aggSeriesLimitReached": false,
       "aggType": "",
       "arguments": {},
       "columnCustomDisplayInfos": {},
       "data": [],
       "datasetInfos": [],
       "dbfsResultPath": null,
       "isJsonSchema": true,
       "metadata": {
        "dataframeName": null
       },
       "overflow": false,
       "plotOptions": {
        "customPlotOptions": {},
        "displayType": "table",
        "pivotAggregation": null,
        "pivotColumns": null,
        "xColumns": null,
        "yColumns": null
       },
       "removedWidgets": [],
       "schema": [],
       "type": "table"
      }
     },
     "output_type": "display_data"
    }
   ],
   "source": [
    "%sql\n",
    "-- Creating database and delta tables if not exist\n",
    "\n",
    "CREATE DATABASE IF NOT EXISTS YouFlix;\n",
    "CREATE TABLE IF NOT EXISTS YouFlix.youflix_user_delta (\n",
    "    user_id BIGINT,\n",
    "    user_name STRING,\n",
    "    user_email STRING,\n",
    "    first_name STRING,\n",
    "    last_name STRING,\n",
    "    user_date_of_birth DATE,\n",
    "    user_address STRING,\n",
    "    user_phone STRING,\n",
    "    created_timestamp TIMESTAMP,\n",
    "    expiration_timestamp TIMESTAMP,\n",
    "    modified_timestamp TIMESTAMP\n",
    ")\n",
    "USING DELTA\n",
    "LOCATION '/mnt/data/silver/youflix/youflix_user';\n",
    "\n",
    "CREATE TABLE IF NOT EXISTS YouFlix.youflix_device_delta (\n",
    "    device_id BIGINT,\n",
    "    device_name STRING,\n",
    "    device_type STRING,\n",
    "    device_os STRING,\n",
    "    created_timestamp TIMESTAMP\n",
    ")\n",
    "USING DELTA \n",
    "LOCATION '/mnt/data/silver/youflix/youflix_device';\n",
    "\n",
    "CREATE TABLE IF NOT EXISTS YouFlix.youflix_subscription_delta (\n",
    "    subscription_id BIGINT,\n",
    "    subscription_name STRING,\n",
    "    subscription_type STRING,\n",
    "    subscription_video_quality STRING,\n",
    "    subscription_max_devices INT,\n",
    "    created_timestamp TIMESTAMP,\n",
    "    expiration_timestamp TIMESTAMP\n",
    ")\n",
    "USING DELTA\n",
    "LOCATION '/mnt/data/silver/youflix/youflix_subscription';\n",
    "\n",
    "CREATE TABLE IF NOT EXISTS YouFlix.youflix_user_subscription_device_delta (\n",
    "    user_subscription_device_id BIGINT,\n",
    "    user_id BIGINT,\n",
    "    device_id BIGINT,\n",
    "    created_timestamp TIMESTAMP\n",
    ")\n",
    "USING DELTA\n",
    "LOCATION '/mnt/data/silver/youflix/youflix_user_subscription_device';\n"
   ]
  },
  {
   "cell_type": "code",
   "execution_count": null,
   "metadata": {
    "application/vnd.databricks.v1+cell": {
     "cellMetadata": {
      "byteLimit": 2048000,
      "rowLimit": 10000
     },
     "inputWidgets": {},
     "nuid": "3a73d209-8643-4906-b050-62f20a57c0cf",
     "showTitle": false,
     "tableResultSettingsMap": {},
     "title": ""
    }
   },
   "source": [
    "import re\n",
    "from delta.tables import *\n",
    "from pyspark.sql.functions import *\n",
    "from pyspark.sql import Window\n",
    "\n",
    "#dictionary \"entities\" store the name of the entities and it's BK \n",
    "entities = {\"device\":\"device_id\", \n",
    "          \"subscription\":\"subscription_id\", \n",
    "          \"user\":\"user_id\", \n",
    "          \"user_subscription_device\":\"user_subscription_device_id\"}\n",
    "\n",
    "try:\n",
    "    #looping through every entity\n",
    "    for entity in entities.items() :   \n",
    "\n",
    "        bronzePath = \"/mnt/data/bronze/youflix/youflix_{entity_name}\".format(entity_name=entity[0])\n",
    "        silverPath = \"/mnt/data/silver/youflix/youflix_{entity_name}\".format(entity_name=entity[0])\n",
    "        processedPath = \"/mnt/data/bronze/youflix/processed/youflix_{entity_name}\".format(entity_name=entity[0])\n",
    "\n",
    "        #files to load from bronze to silver\n",
    "        filePaths = dbutils.fs.ls(bronzePath)\n",
    "\n",
    "        if filePaths:\n",
    "            \n",
    "            #MERGE BRONZE TO SILVER\n",
    "                       \n",
    "            #TODO\n",
    "            #use pyspark spark.read.load method to create dataframe based on csv files in the bronzePath\n",
    "            #do not forget that file has header\n",
    "\n",
    "            bronzeDF = spark.read.option(\"header\", \"true\").option(\"inferSchema\", \"true\").csv(bronzePath)\n",
    "                       \n",
    "                       \n",
    "            partition=Window.partitionBy(entity[1]).orderBy(col(\"filedate\").desc())\n",
    "           \n",
    "            bronzeDF_cln = (bronzeDF.withColumn(\"filedate\", to_timestamp(regexp_extract(input_file_name(),'([\\d]{14})',0), 'yyyyMMddhhmmss'))\n",
    "                                    .withColumn(\"rn\",row_number().over(partition))\n",
    "                                    .filter(\"rn == 1\")\n",
    "                            )\n",
    "\n",
    "            #get delta table at the silver path\n",
    "            silver_table = DeltaTable.forPath(spark, silverPath)\n",
    "\n",
    "        \n",
    "            #TODO\n",
    "            #add your code into brackets below\n",
    "            #use pyspark merge method to merge bronzeDF_cln dataframe into silver_table by BK. BK for table can be accessible by entity[1]\n",
    "            #refer to the https://learn.microsoft.com/en-us/azure/databricks/delta/merge to learn about upsert into a Delta Lake table using merge. \n",
    "            #this article https://docs.delta.io/latest/delta-update.html#table-deletes-updates-and-merges&language-python will help to understand how to delete, update and merge Delta tables\n",
    "            (\n",
    "                silver_table.alias('silver') \\\n",
    "                                .merge(\n",
    "                                    bronzeDF_cln.alias('updates'),\n",
    "                                    f'silver.{entity[1]} = updates.{entity[1]}'\n",
    "                                ) \\\n",
    "                                .whenMatchedUpdate(\n",
    "                                    set =\n",
    "                                    {\n",
    "                                       col: f\"updates.{col}\" for col in bronzeDF.columns\n",
    "                                    }\n",
    "                                ) \\\n",
    "                                .whenNotMatchedInsert(values =\n",
    "                                    {\n",
    "                                        col: f\"updates.{col}\" for col in bronzeDF.columns\n",
    "                                    }\n",
    "                                ) \\\n",
    "                                .execute()\n",
    "            )\n",
    "\n",
    "            #MOVE TO PROCESSED DIRECTORY \n",
    "\n",
    "            #looping through every file in directory\n",
    "            for file_info in filePaths:\n",
    "\n",
    "                #creating tuple to store (year, month, day) of the file\n",
    "                file_date = (re.split(\"_\", file_info.name)[-1][0:4], re.split(\"_\", file_info.name)[-1][4:6], re.split(\"_\", file_info.name)[-1][6:8])\n",
    "                \n",
    "                #TODO \n",
    "                #complete mv command to move files from bronzePath to processedPath according to the structure in 1.2.7.\n",
    "                #use file_date tuple to get year, month and day of the file, use file_info.name to get name of file\n",
    "                dbutils.fs.mv(file_info.path, processedPath + \"/\" + file_date[0] + \"/\" + file_date[1] + \"/\" + file_date[2] + \"/\" + file_info.name)\n",
    "\n",
    "        #REMOVE Success.csv\n",
    "\n",
    "        #TODO \n",
    "        dbutils.fs.rm(f\"/mnt/data/bronze/youflix/Success.txt\")\n",
    "    \n",
    "        else:\n",
    "            print(\"Entity \\\"{entity}\\\" - No files for load\".format(entity=entity[0]))\n",
    "    \n",
    "except Exception as e:\n",
    "    print(e)\n",
    "    "
   ]
  }
 ],
 "metadata": {
  "application/vnd.databricks.v1+notebook": {
   "computePreferences": null,
   "dashboards": [],
   "environmentMetadata": null,
   "language": "python",
   "notebookMetadata": {
    "mostRecentlyExecutedCommandWithImplicitDF": {
     "commandId": 3729751745128656,
     "dataframes": [
      "_sqldf"
     ]
    },
    "pythonIndentUnit": 4
   },
   "notebookName": "uc1_load_bronze_to_silver",
   "widgets": {}
  },
  "kernelspec": {
   "display_name": "Python 3 (ipykernel)",
   "language": "python",
   "name": "python3"
  },
  "language_info": {
   "codemirror_mode": {
    "name": "ipython",
    "version": 3
   },
   "file_extension": ".py",
   "mimetype": "text/x-python",
   "name": "python",
   "nbconvert_exporter": "python",
   "pygments_lexer": "ipython3",
   "version": "3.10.11"
  }
 },
 "nbformat": 4,
 "nbformat_minor": 4
}
