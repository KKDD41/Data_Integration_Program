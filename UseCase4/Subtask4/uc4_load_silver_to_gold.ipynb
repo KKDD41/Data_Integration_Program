{
 "cells": [
  {
   "cell_type": "code",
   "execution_count": 0,
   "metadata": {
    "application/vnd.databricks.v1+cell": {
     "cellMetadata": {
      "byteLimit": 2048000,
      "implicitDf": true,
      "rowLimit": 10000
     },
     "inputWidgets": {},
     "nuid": "16692858-ead1-4d74-a742-3c169a3c5ab8",
     "showTitle": false,
     "tableResultSettingsMap": {},
     "title": ""
    }
   },
   "outputs": [
    {
     "output_type": "display_data",
     "data": {
      "text/html": [
       "<style scoped>\n",
       "  .table-result-container {\n",
       "    max-height: 300px;\n",
       "    overflow: auto;\n",
       "  }\n",
       "  table, th, td {\n",
       "    border: 1px solid black;\n",
       "    border-collapse: collapse;\n",
       "  }\n",
       "  th, td {\n",
       "    padding: 5px;\n",
       "  }\n",
       "  th {\n",
       "    text-align: left;\n",
       "  }\n",
       "</style><div class='table-result-container'><table class='table-result'><thead style='background-color: white'><tr></tr></thead><tbody></tbody></table></div>"
      ]
     },
     "metadata": {
      "application/vnd.databricks.v1+output": {
       "addedWidgets": {},
       "aggData": [],
       "aggError": "",
       "aggOverflow": false,
       "aggSchema": [],
       "aggSeriesLimitReached": false,
       "aggType": "",
       "arguments": {},
       "columnCustomDisplayInfos": {},
       "data": [],
       "datasetInfos": [],
       "dbfsResultPath": null,
       "isJsonSchema": true,
       "metadata": {
        "dataframeName": null
       },
       "overflow": false,
       "plotOptions": {
        "customPlotOptions": {},
        "displayType": "table",
        "pivotAggregation": null,
        "pivotColumns": null,
        "xColumns": null,
        "yColumns": null
       },
       "removedWidgets": [],
       "schema": [],
       "type": "table"
      }
     },
     "output_type": "display_data"
    }
   ],
   "source": [
    "%sql\n",
    "--TODO: Create new table \"events_movie_watches\" according to the requirements:\n",
    "--Fomat - Delta\n",
    "--Partitioned by - year, month and day\n",
    "--Location - '/mnt/data/gold/events_movie_watches/'\n",
    "CREATE TABLE IF NOT EXISTS events_movie_watches (\n",
    "  movie_id string,\n",
    "  event_id int,\n",
    "  start_event_timestamp timestamp,\n",
    "  finish_event_timestamp timestamp,\n",
    "  is_finished int,\n",
    "  title_type string,\n",
    "  primary_title string,\n",
    "  runtime_minutes int,\n",
    "  primary_genre string,\n",
    "  secondary_genre string,\n",
    "  birth_year int,\n",
    "  device_type string,\n",
    "  subscription_type string,\n",
    "  device_os string,\n",
    "  year int,\n",
    "  month int,\n",
    "  day int\n",
    ") USING DELTA\n",
    "PARTITIONED BY (year, month, day)\n",
    "LOCATION '/mnt/data/gold/events_movie_watches/'"
   ]
  },
  {
   "cell_type": "code",
   "execution_count": 0,
   "metadata": {
    "application/vnd.databricks.v1+cell": {
     "cellMetadata": {
      "byteLimit": 2048000,
      "rowLimit": 10000
     },
     "inputWidgets": {},
     "nuid": "65fcb35a-7739-47fc-9fc8-f3f307a79459",
     "showTitle": false,
     "tableResultSettingsMap": {},
     "title": ""
    }
   },
   "outputs": [],
   "source": [
    "# Define variables used in code below\n",
    "file_path = \"/mnt/data/silver/events\"\n",
    "table_name = \"events\"\n",
    "checkpointPath = \"/mnt/data/checkpoints/silver/events\"\n",
    "\n",
    "#drop table\n",
    "spark.sql(\"DROP TABLE IF EXISTS events\")\n",
    "\n",
    "# Configure Auto Loader to ingest PARQUET data to a Delta table\n",
    "(\n",
    "  spark.readStream\n",
    "  .format(\"cloudFiles\")\n",
    "  .option(\"cloudFiles.format\", \"parquet\")\n",
    "  .option(\"cloudFiles.schemaLocation\", checkpointPath)\n",
    "  .load(file_path)  \n",
    "  .writeStream\n",
    "  .option(\"checkpointLocation\", checkpointPath)\n",
    "  .trigger(availableNow=True)\n",
    "  .toTable(table_name)\n",
    "  .awaitTermination()\n",
    ")"
   ]
  },
  {
   "cell_type": "code",
   "execution_count": 0,
   "metadata": {
    "application/vnd.databricks.v1+cell": {
     "cellMetadata": {
      "byteLimit": 2048000,
      "rowLimit": 10000
     },
     "inputWidgets": {},
     "nuid": "1227871d-7eba-41ec-8ce6-b6fc9453c6ea",
     "showTitle": false,
     "tableResultSettingsMap": {},
     "title": ""
    }
   },
   "outputs": [],
   "source": [
    "import re\n",
    "from delta.tables import *\n",
    "from pyspark.sql.functions import *\n",
    "from pyspark.sql import Window\n",
    "\n",
    "events_movie_watches = DeltaTable.forPath(spark, '/mnt/data/gold/events_movie_watches/')\n",
    "\n",
    "events = spark.read.parquet('/mnt/data/silver/events/')\n",
    "events.createOrReplaceTempView(\"events\")\n",
    "\n",
    "uc1_details = spark.sql(\"\"\"\n",
    "    select \n",
    "        usd.user_subscription_device_id as user_subscription_device_id,\n",
    "        s.subscription_type as subscription_type,\n",
    "        d.device_os as device_os,\n",
    "        d.device_type as device_type,\n",
    "        year(u.user_date_of_birth) as birth_year\n",
    "    from YouFlix.youflix_user_subscription_device_delta usd\n",
    "    left join YouFlix.youflix_subscription_delta s on usd.subscription_id = s.subscription_id\n",
    "    left join YouFlix.youflix_device_delta d on usd.device_id = d.device_id\n",
    "    left join YouFlix.youflix_user_delta u on usd.user_id = u.user_id\n",
    "\"\"\")\n",
    "uc1_details.createOrReplaceTempView(\"uc1_details\")\n",
    "\n",
    "uc2_details = spark.read.parquet('/mnt/data/silver/imdb/title_genres/')\n",
    "uc2_details.createOrReplaceTempView(\"uc2_details\")\n",
    "uc2_details = spark.sql(\"\"\"\n",
    "    select\n",
    "        title_id,\n",
    "        collect_list(genre) as genres\n",
    "    from uc2_details      \n",
    "    group by title_id                  \n",
    "\"\"\")\n",
    "uc2_details.createOrReplaceTempView(\"uc2_details\")\n",
    "\n",
    "uc3_details = spark.read.parquet('/mnt/data/silver/imdb/titles')\n",
    "uc3_details.createOrReplaceTempView(\"uc3_details\")\n",
    "\n",
    "events_enriched = spark.sql(\"\"\"\n",
    "    select \n",
    "        e.event_timestamp as event_timestamp,\n",
    "        e.event_uid as event_uid, \n",
    "        e.event_type as event_type,\n",
    "        e.event_id as event_id,\n",
    "        e.user_subscription_device_id as user_subscription_device_id,\n",
    "        e.movie_id as movie_id,\n",
    "        e.EventProcessedUtcTime as EventProcessedUtcTime,\n",
    "        e.PartitionId as PartitionId,\n",
    "        e.EventEnqueuedUtcTime as EventEnqueuedUtcTime,\n",
    "        e.year as year,\n",
    "        e.month as month,\n",
    "        e.day as day,\n",
    "        u1.subscription_type as subscription_type,\n",
    "        u1.device_os as device_os,\n",
    "        u1.birth_year as birth_year,\n",
    "        u1.device_type as device_type,\n",
    "        u2.genres[0] as primary_genre,\n",
    "        u2.genres[1] as secondary_genre,\n",
    "        u3.primary_title as primary_title,\n",
    "        u3.title_type as title_type,\n",
    "        u3.runtime_minutes as runtime_minutes\n",
    "    from events e\n",
    "    left join uc1_details u1 on e.user_subscription_device_id = u1.user_subscription_device_id      \n",
    "    left join uc2_details u2 on e.movie_id = u2.title_id\n",
    "    left join uc3_details u3 on string(e.movie_id) = u3.title_id      \n",
    "\"\"\")"
   ]
  },
  {
   "cell_type": "code",
   "execution_count": 0,
   "metadata": {
    "application/vnd.databricks.v1+cell": {
     "cellMetadata": {
      "byteLimit": 2048000,
      "rowLimit": 10000
     },
     "inputWidgets": {},
     "nuid": "22ef52d9-be9b-4856-938d-235a705735c6",
     "showTitle": false,
     "tableResultSettingsMap": {},
     "title": ""
    }
   },
   "outputs": [
    {
     "output_type": "stream",
     "name": "stdout",
     "output_type": "stream",
     "text": [
      "StructType([StructField('event_timestamp', StringType(), True), StructField('event_uid', StringType(), True), StructField('event_type', StringType(), True), StructField('event_id', StringType(), True), StructField('user_subscription_device_id', StringType(), True), StructField('movie_id', StringType(), True), StructField('EventProcessedUtcTime', TimestampType(), True), StructField('PartitionId', LongType(), True), StructField('EventEnqueuedUtcTime', TimestampType(), True), StructField('year', IntegerType(), True), StructField('month', IntegerType(), True), StructField('day', IntegerType(), True), StructField('subscription_type', StringType(), True), StructField('device_os', StringType(), True), StructField('birth_year', IntegerType(), True), StructField('device_type', StringType(), True), StructField('primary_genre', StringType(), True), StructField('secondary_genre', StringType(), True), StructField('primary_title', StringType(), True), StructField('title_type', StringType(), True), StructField('runtime_minutes', IntegerType(), True)])\n"
     ]
    }
   ],
   "source": [
    "from pyspark.sql import functions as F\n",
    "from pyspark.sql import SparkSession\n",
    "from delta.tables import DeltaTable\n",
    "\n",
    "spark.sql(\"SET spark.sql.ansi.enabled = false\")\n",
    "\n",
    "\n",
    "finish_events = events_enriched.filter(events_enriched.event_type == \"FINISH\")\n",
    "start_events = events_enriched.filter(events_enriched.event_type == \"START\")\n",
    "\n",
    "finish_events.createOrReplaceTempView(\"finish_events\")\n",
    "start_events.createOrReplaceTempView(\"start_events\")\n",
    "\n",
    "valid_finish_events = spark.sql(\"\"\"\n",
    "    SELECT \n",
    "        s.*\n",
    "    FROM finish_events f\n",
    "    INNER JOIN start_events s ON f.event_id = s.event_id\n",
    "\"\"\")\n",
    "\n",
    "union_df = start_events.union(valid_finish_events).dropDuplicates(['event_id'])\n",
    "union_df.createOrReplaceTempView(\"updates\")\n",
    "\n",
    "print(union_df.schema)\n",
    "\n",
    "spark.sql(\"\"\"\n",
    "    MERGE INTO events_movie_watches\n",
    "    USING updates\n",
    "    ON events_movie_watches.event_id = updates.event_id\n",
    "    WHEN MATCHED THEN\n",
    "        UPDATE SET\n",
    "            events_movie_watches.finish_event_timestamp = updates.EventProcessedUtcTime,\n",
    "            events_movie_watches.is_finished = 1\n",
    "    WHEN NOT MATCHED THEN\n",
    "        INSERT (\n",
    "            movie_id, event_id, start_event_timestamp, finish_event_timestamp, is_finished, \n",
    "            title_type, primary_title, runtime_minutes, primary_genre, secondary_genre, \n",
    "            birth_year, device_type, subscription_type, device_os, year, month, day\n",
    "        ) VALUES (\n",
    "            updates.movie_id, try_cast(updates.event_id as int), updates.EventProcessedUtcTime, NULL, 0, \n",
    "            updates.title_type, updates.primary_title, updates.runtime_minutes, updates.primary_genre, updates.secondary_genre, \n",
    "            updates.birth_year, updates.device_type, updates.subscription_type, updates.device_os, updates.year, updates.month, updates.day\n",
    "        )\n",
    "\"\"\")\n",
    "\n",
    "events_movie_watches.toDF().write.format(\"delta\").mode(\"overwrite\").save(\"/mnt/data/gold/events_movie_watches/\")"
   ]
  },
  {
   "cell_type": "code",
   "execution_count": 0,
   "metadata": {
    "application/vnd.databricks.v1+cell": {
     "cellMetadata": {
      "byteLimit": 2048000,
      "implicitDf": true,
      "rowLimit": 10000
     },
     "inputWidgets": {},
     "nuid": "97e2c403-8866-4b03-a5ee-86227f73f91f",
     "showTitle": false,
     "tableResultSettingsMap": {},
     "title": ""
    }
   },
   "outputs": [
    {
     "output_type": "display_data",
     "data": {
      "text/html": [
       "<style scoped>\n",
       "  .table-result-container {\n",
       "    max-height: 300px;\n",
       "    overflow: auto;\n",
       "  }\n",
       "  table, th, td {\n",
       "    border: 1px solid black;\n",
       "    border-collapse: collapse;\n",
       "  }\n",
       "  th, td {\n",
       "    padding: 5px;\n",
       "  }\n",
       "  th {\n",
       "    text-align: left;\n",
       "  }\n",
       "</style><div class='table-result-container'><table class='table-result'><thead style='background-color: white'><tr><th>count(1)</th></tr></thead><tbody><tr><td>1550336</td></tr></tbody></table></div>"
      ]
     },
     "metadata": {
      "application/vnd.databricks.v1+output": {
       "addedWidgets": {},
       "aggData": [],
       "aggError": "",
       "aggOverflow": false,
       "aggSchema": [],
       "aggSeriesLimitReached": false,
       "aggType": "",
       "arguments": {},
       "columnCustomDisplayInfos": {},
       "data": [
        [
         1550336
        ]
       ],
       "datasetInfos": [],
       "dbfsResultPath": null,
       "isJsonSchema": true,
       "metadata": {
        "createTempViewForImplicitDf": true,
        "dataframeName": "_sqldf",
        "executionCount": 1
       },
       "overflow": false,
       "plotOptions": {
        "customPlotOptions": {},
        "displayType": "table",
        "pivotAggregation": null,
        "pivotColumns": null,
        "xColumns": null,
        "yColumns": null
       },
       "removedWidgets": [],
       "schema": [
        {
         "metadata": "{}",
         "name": "count(1)",
         "type": "\"integer\""
        }
       ],
       "type": "table"
      }
     },
     "output_type": "display_data"
    }
   ],
   "source": [
    "%sql\n",
    "SELECT\n",
    "  count(*)\n",
    "FROM\n",
    "  cloud_files_state(\"/mnt/data/checkpoints/silver/events\");"
   ]
  },
  {
   "cell_type": "code",
   "execution_count": 0,
   "metadata": {
    "application/vnd.databricks.v1+cell": {
     "cellMetadata": {
      "byteLimit": 2048000,
      "implicitDf": true,
      "rowLimit": 10000
     },
     "inputWidgets": {},
     "nuid": "d6b93b71-79d2-4b49-b4b4-f33f2e15b7ed",
     "showTitle": false,
     "tableResultSettingsMap": {},
     "title": ""
    }
   },
   "outputs": [
    {
     "output_type": "display_data",
     "data": {
      "text/html": [
       "<style scoped>\n",
       "  .table-result-container {\n",
       "    max-height: 300px;\n",
       "    overflow: auto;\n",
       "  }\n",
       "  table, th, td {\n",
       "    border: 1px solid black;\n",
       "    border-collapse: collapse;\n",
       "  }\n",
       "  th, td {\n",
       "    padding: 5px;\n",
       "  }\n",
       "  th {\n",
       "    text-align: left;\n",
       "  }\n",
       "</style><div class='table-result-container'><table class='table-result'><thead style='background-color: white'><tr><th>count(1)</th></tr></thead><tbody><tr><td>886001</td></tr></tbody></table></div>"
      ]
     },
     "metadata": {
      "application/vnd.databricks.v1+output": {
       "addedWidgets": {},
       "aggData": [],
       "aggError": "",
       "aggOverflow": false,
       "aggSchema": [],
       "aggSeriesLimitReached": false,
       "aggType": "",
       "arguments": {},
       "columnCustomDisplayInfos": {},
       "data": [
        [
         886001
        ]
       ],
       "datasetInfos": [],
       "dbfsResultPath": null,
       "isJsonSchema": true,
       "metadata": {
        "createTempViewForImplicitDf": true,
        "dataframeName": "_sqldf",
        "executionCount": 1
       },
       "overflow": false,
       "plotOptions": {
        "customPlotOptions": {},
        "displayType": "table",
        "pivotAggregation": null,
        "pivotColumns": null,
        "xColumns": null,
        "yColumns": null
       },
       "removedWidgets": [],
       "schema": [
        {
         "metadata": "{}",
         "name": "count(1)",
         "type": "\"integer\""
        }
       ],
       "type": "table"
      }
     },
     "output_type": "display_data"
    }
   ],
   "source": [
    "%sql\n",
    "select\n",
    "  count(*)\n",
    "from\n",
    "  events_movie_watches;"
   ]
  }
 ],
 "metadata": {
  "application/vnd.databricks.v1+notebook": {
   "computePreferences": null,
   "dashboards": [],
   "environmentMetadata": null,
   "language": "python",
   "notebookMetadata": {
    "mostRecentlyExecutedCommandWithImplicitDF": {
     "commandId": 5994840319631675,
     "dataframes": [
      "_sqldf"
     ]
    },
    "pythonIndentUnit": 4
   },
   "notebookName": "uc4_load_silver_to_gold",
   "widgets": {}
  },
  "language_info": {
   "name": "python"
  }
 },
 "nbformat": 4,
 "nbformat_minor": 0
}